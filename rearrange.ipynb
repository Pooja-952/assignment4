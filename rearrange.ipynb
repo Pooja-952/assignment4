{
 "cells": [
  {
   "cell_type": "markdown",
   "id": "36b6b928-edbb-4fa6-ae64-cee1d0b59321",
   "metadata": {},
   "source": [
    "## Q8. Given the array nums consisting of 2n elements in the form [x1,x2,...,xn,y1,y2,...,yn].\n",
    "*Return the array in the form* [x1,y1,x2,y2,...,xn,yn]."
   ]
  },
  {
   "cell_type": "code",
   "execution_count": 4,
   "id": "d4b010e8-5ef8-40f3-bf9e-36df6aada5f6",
   "metadata": {},
   "outputs": [],
   "source": [
    "def rearrangeArray(nums):\n",
    "    n= len(nums) //2\n",
    "    result= []\n",
    "    for i in range(n):\n",
    "        result.append(nums[i])\n",
    "        result.append(nums[i + n])\n",
    "    return result    "
   ]
  },
  {
   "cell_type": "code",
   "execution_count": 5,
   "id": "d1f45b93-7c0a-491a-80ad-06a1ed8736b2",
   "metadata": {},
   "outputs": [
    {
     "name": "stdout",
     "output_type": "stream",
     "text": [
      "[2, 3, 5, 4, 1, 7]\n"
     ]
    }
   ],
   "source": [
    "nums = [2,5,1,3,4,7]\n",
    "rearrange= rearrangeArray(nums)\n",
    "print(rearrange)"
   ]
  },
  {
   "cell_type": "code",
   "execution_count": null,
   "id": "6b75e9d4-5e22-4510-9237-970aa31807f7",
   "metadata": {},
   "outputs": [],
   "source": []
  }
 ],
 "metadata": {
  "kernelspec": {
   "display_name": "Python 3 (ipykernel)",
   "language": "python",
   "name": "python3"
  },
  "language_info": {
   "codemirror_mode": {
    "name": "ipython",
    "version": 3
   },
   "file_extension": ".py",
   "mimetype": "text/x-python",
   "name": "python",
   "nbconvert_exporter": "python",
   "pygments_lexer": "ipython3",
   "version": "3.10.6"
  }
 },
 "nbformat": 4,
 "nbformat_minor": 5
}
