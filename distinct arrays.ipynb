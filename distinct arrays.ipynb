{
 "cells": [
  {
   "cell_type": "markdown",
   "id": "d2a9211c-f38f-485d-8909-1616545d7150",
   "metadata": {},
   "source": [
    "## Q2. Given two **0-indexed** integer arrays nums1 and nums2, return *a list* answer *of size* 2 *where:*\n",
    "- answer[0] *is a list of all **distinct** integers in* nums1 *which are **not** present in* nums2*.*\n",
    "- answer[1] *is a list of all **distinct** integers in* nums2 *which are **not** present in* nums1.\n",
    "**Note** that the integers in the lists may be returned in **any** order."
   ]
  },
  {
   "cell_type": "code",
   "execution_count": 3,
   "id": "8865d662-0b1d-4eff-a4ff-4dc51a43056b",
   "metadata": {},
   "outputs": [],
   "source": [
    "def arraysDistinct(nums1, nums2):\n",
    "    set_nums1= set(nums1)\n",
    "    set_nums2= set(nums2)\n",
    "    \n",
    "    distinct_nums1= list(set_nums1 - set_nums2)\n",
    "    distinct_nums2= list(set_nums2 - set_nums1)\n",
    "    \n",
    "    answer= distinct_nums1, distinct_nums2\n",
    "    \n",
    "    return answer\n",
    "    "
   ]
  },
  {
   "cell_type": "code",
   "execution_count": 4,
   "id": "765fd17f-9b6f-415a-848e-4c1ba672ca69",
   "metadata": {},
   "outputs": [
    {
     "name": "stdout",
     "output_type": "stream",
     "text": [
      "([1, 3], [4, 6])\n"
     ]
    }
   ],
   "source": [
    "nums1 = [1,2,3]\n",
    "nums2 = [2,4,6]\n",
    "result= arraysDistinct(nums1, nums2)\n",
    "print(result)"
   ]
  },
  {
   "cell_type": "code",
   "execution_count": null,
   "id": "7ae59a9c-507f-46c7-8444-29d030cf3d01",
   "metadata": {},
   "outputs": [],
   "source": []
  }
 ],
 "metadata": {
  "kernelspec": {
   "display_name": "Python 3 (ipykernel)",
   "language": "python",
   "name": "python3"
  },
  "language_info": {
   "codemirror_mode": {
    "name": "ipython",
    "version": 3
   },
   "file_extension": ".py",
   "mimetype": "text/x-python",
   "name": "python",
   "nbconvert_exporter": "python",
   "pygments_lexer": "ipython3",
   "version": "3.10.6"
  }
 },
 "nbformat": 4,
 "nbformat_minor": 5
}
