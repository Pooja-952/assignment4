{
 "cells": [
  {
   "cell_type": "markdown",
   "id": "06199bc1-65fc-4528-97c1-99697f99e5c4",
   "metadata": {},
   "source": [
    "## Q6. Given an integer array nums sorted in non-decreasing order, return an array of the squares of each number sorted in non-decreasing order."
   ]
  },
  {
   "cell_type": "code",
   "execution_count": 11,
   "id": "54879367-124a-439b-be83-ce687700b93f",
   "metadata": {},
   "outputs": [],
   "source": [
    "def sortedSquare(nums):\n",
    "    n = len(nums)\n",
    "    result= [0] * n\n",
    "    left = 0\n",
    "    right= n-1\n",
    "    \n",
    "    for i in range(n - 1, -1, -1):\n",
    "        if abs(nums[left]) > abs(nums[right]):\n",
    "            result[i] = nums[left] ** 2\n",
    "            left += 1\n",
    "        else:\n",
    "            \n",
    "            result[i] = nums[right] ** 2\n",
    "            right -= 1\n",
    "    return result          "
   ]
  },
  {
   "cell_type": "code",
   "execution_count": 12,
   "id": "2a82ccc3-237a-4d11-a7aa-a59e6f6ed30f",
   "metadata": {},
   "outputs": [
    {
     "name": "stdout",
     "output_type": "stream",
     "text": [
      "[0, 1, 9, 16, 100]\n"
     ]
    }
   ],
   "source": [
    "nums = [-4,-1,0,3,10]\n",
    "squared_number= sortedSquare(nums)\n",
    "print(squared_number)"
   ]
  },
  {
   "cell_type": "code",
   "execution_count": null,
   "id": "798bf841-4e0a-42d1-8f00-b89b1e55a7c7",
   "metadata": {},
   "outputs": [],
   "source": []
  }
 ],
 "metadata": {
  "kernelspec": {
   "display_name": "Python 3 (ipykernel)",
   "language": "python",
   "name": "python3"
  },
  "language_info": {
   "codemirror_mode": {
    "name": "ipython",
    "version": 3
   },
   "file_extension": ".py",
   "mimetype": "text/x-python",
   "name": "python",
   "nbconvert_exporter": "python",
   "pygments_lexer": "ipython3",
   "version": "3.10.6"
  }
 },
 "nbformat": 4,
 "nbformat_minor": 5
}
