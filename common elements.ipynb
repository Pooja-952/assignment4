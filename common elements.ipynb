{
 "cells": [
  {
   "cell_type": "markdown",
   "id": "65ab7c0d-9e5d-4872-8e17-dd322c9ede79",
   "metadata": {},
   "source": [
    "## Q1. Given three integer arrays arr1, arr2 and arr3 sorted in strictly increasing order, return a sorted array of only the integers that appeared in all three arrays.\n"
   ]
  },
  {
   "cell_type": "code",
   "execution_count": 12,
   "id": "4d9322d1-9780-408d-b38c-d918d3cf1a8a",
   "metadata": {},
   "outputs": [],
   "source": [
    "def arraysIntersection(arr1, arr2, arr3):\n",
    "    p1, p2, p3= 0, 0, 0\n",
    "    result= []\n",
    "    while p1< len(arr1) and p2< len(arr2) and p3 < len(arr3):\n",
    "        if arr1[p1] == arr2[p2] == arr3[p3]:\n",
    "            result.append(arr1[p1])\n",
    "            p1 += 1\n",
    "            p2 += 1\n",
    "            p3 += 1\n",
    "        else:\n",
    "            min_val= min(arr1[p1], arr2[p2], arr3[p3])\n",
    "            if arr1[p1] == min_val:\n",
    "                p1 +=1\n",
    "            if arr2[p2] == min_val:\n",
    "                p2 +=1\n",
    "            if arr3[p3] == min_val:\n",
    "                p3 +=1\n",
    "    \n",
    "    return result        \n",
    "            \n",
    "    "
   ]
  },
  {
   "cell_type": "code",
   "execution_count": 13,
   "id": "8b038a75-2c02-4376-ac29-eb696f8d2763",
   "metadata": {},
   "outputs": [
    {
     "name": "stdout",
     "output_type": "stream",
     "text": [
      "[1, 5]\n"
     ]
    }
   ],
   "source": [
    "arr1 = [1,2,3,4,5]\n",
    "arr2 = [1,2,5,7,9]\n",
    "arr3 = [1,3,4,5,8]\n",
    "common_elements= arraysIntersection(arr1, arr2, arr3)\n",
    "print(common_elements)"
   ]
  },
  {
   "cell_type": "code",
   "execution_count": null,
   "id": "ee43f7c1-e04c-4713-b693-1c5d9418ddda",
   "metadata": {},
   "outputs": [],
   "source": []
  }
 ],
 "metadata": {
  "kernelspec": {
   "display_name": "Python 3 (ipykernel)",
   "language": "python",
   "name": "python3"
  },
  "language_info": {
   "codemirror_mode": {
    "name": "ipython",
    "version": 3
   },
   "file_extension": ".py",
   "mimetype": "text/x-python",
   "name": "python",
   "nbconvert_exporter": "python",
   "pygments_lexer": "ipython3",
   "version": "3.10.6"
  }
 },
 "nbformat": 4,
 "nbformat_minor": 5
}
