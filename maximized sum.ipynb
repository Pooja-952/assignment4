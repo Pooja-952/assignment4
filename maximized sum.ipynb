{
 "cells": [
  {
   "cell_type": "markdown",
   "id": "74f399bf-f1c9-44da-afb5-2d635f908066",
   "metadata": {},
   "source": [
    "## Q4. Given an integer array nums of 2n integers, group these integers into n pairs (a1, b1), (a2, b2), ..., (an, bn) such that the sum of min(ai, bi) for all i is maximized. Return the maximized sum."
   ]
  },
  {
   "cell_type": "code",
   "execution_count": 3,
   "id": "0233abca-f158-488e-bf58-d57bb841bf78",
   "metadata": {},
   "outputs": [],
   "source": [
    "def groupSumMaximized(nums):\n",
    "    nums.sort()\n",
    "    max_sum = 0\n",
    "    for i in range(0, len(nums), 2):\n",
    "        max_sum += nums[i]\n",
    "        \n",
    "    return max_sum    "
   ]
  },
  {
   "cell_type": "code",
   "execution_count": 4,
   "id": "86791a02-5d6d-4f8a-a49e-9814c078b0f3",
   "metadata": {},
   "outputs": [
    {
     "name": "stdout",
     "output_type": "stream",
     "text": [
      "4\n"
     ]
    }
   ],
   "source": [
    "nums = [1,4,3,2]\n",
    "result= groupSumMaximized(nums)\n",
    "print(result)"
   ]
  },
  {
   "cell_type": "code",
   "execution_count": null,
   "id": "3081fbcf-f83c-4f77-b0e8-965573cb627f",
   "metadata": {},
   "outputs": [],
   "source": []
  }
 ],
 "metadata": {
  "kernelspec": {
   "display_name": "Python 3 (ipykernel)",
   "language": "python",
   "name": "python3"
  },
  "language_info": {
   "codemirror_mode": {
    "name": "ipython",
    "version": 3
   },
   "file_extension": ".py",
   "mimetype": "text/x-python",
   "name": "python",
   "nbconvert_exporter": "python",
   "pygments_lexer": "ipython3",
   "version": "3.10.6"
  }
 },
 "nbformat": 4,
 "nbformat_minor": 5
}
