{
 "cells": [
  {
   "cell_type": "markdown",
   "id": "6af35056-2156-41bc-8b6c-4d49af94d3d6",
   "metadata": {},
   "source": [
    "## Q5.You have n coins and you want to build a staircase with these coins. The staircase consists of k rows where the ith row has exactly i coins. The last row of the staircase **may be** incomplete.\n",
    "Given the integer n, return *the number of **complete rows** of the staircase you will build*."
   ]
  },
  {
   "cell_type": "code",
   "execution_count": 17,
   "id": "5f5d0067-0e5c-453a-a848-b55c2bb0d702",
   "metadata": {},
   "outputs": [],
   "source": [
    "def arrangeCoins(n):\n",
    "    complete_row= 0\n",
    "    total_coins = 0\n",
    "    i = 1\n",
    "    while total_coins<=n:\n",
    "        complete_row += 1\n",
    "        total_coins += i\n",
    "        i +=1\n",
    "        \n",
    "    return complete_row - 1    "
   ]
  },
  {
   "cell_type": "code",
   "execution_count": 18,
   "id": "8f650a46-70b4-4e29-b91b-7332636c3ddb",
   "metadata": {},
   "outputs": [
    {
     "name": "stdout",
     "output_type": "stream",
     "text": [
      "2\n"
     ]
    }
   ],
   "source": [
    "n = 5\n",
    "num_complete_rows= arrangeCoins(n)\n",
    "print(num_complete_rows)"
   ]
  },
  {
   "cell_type": "code",
   "execution_count": null,
   "id": "d46f6446-3317-4a98-b7fb-9f0248f27456",
   "metadata": {},
   "outputs": [],
   "source": []
  }
 ],
 "metadata": {
  "kernelspec": {
   "display_name": "Python 3 (ipykernel)",
   "language": "python",
   "name": "python3"
  },
  "language_info": {
   "codemirror_mode": {
    "name": "ipython",
    "version": 3
   },
   "file_extension": ".py",
   "mimetype": "text/x-python",
   "name": "python",
   "nbconvert_exporter": "python",
   "pygments_lexer": "ipython3",
   "version": "3.10.6"
  }
 },
 "nbformat": 4,
 "nbformat_minor": 5
}
