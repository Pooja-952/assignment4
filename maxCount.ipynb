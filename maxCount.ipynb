{
 "cells": [
  {
   "cell_type": "markdown",
   "id": "17d2e250-e98a-4a82-ac05-8f6a162d5008",
   "metadata": {},
   "source": [
    "## Q7.You are given an m x n matrix M initialized with all 0's and an array of operations ops, where ops[i] = [ai, bi] means M[x][y] should be incremented by one for all 0 <= x < ai and 0 <= y < bi.\n",
    "Count and return *the number of maximum integers in the matrix after performing all the operations*"
   ]
  },
  {
   "cell_type": "code",
   "execution_count": 34,
   "id": "ac053642-53f6-40ce-b141-b4d59581f5a4",
   "metadata": {},
   "outputs": [],
   "source": [
    "def maxCount(m, n, ops):\n",
    "    for op in ops:\n",
    "        m = min(m, op[0])\n",
    "        n = min(n, op[1])\n",
    "    return m * n"
   ]
  },
  {
   "cell_type": "code",
   "execution_count": 36,
   "id": "d61943cc-049c-4b27-87d2-50a6ec2fa814",
   "metadata": {},
   "outputs": [
    {
     "name": "stdout",
     "output_type": "stream",
     "text": [
      "4\n"
     ]
    }
   ],
   "source": [
    "m = 3\n",
    "n = 3\n",
    "ops = [[2,2],[3,3]]\n",
    "maximum = maxCount(m, n, ops)\n",
    "print(maximum)"
   ]
  },
  {
   "cell_type": "code",
   "execution_count": null,
   "id": "f405b441-1f4e-4b65-9ff3-8b1197d9ada9",
   "metadata": {},
   "outputs": [],
   "source": []
  }
 ],
 "metadata": {
  "kernelspec": {
   "display_name": "Python 3 (ipykernel)",
   "language": "python",
   "name": "python3"
  },
  "language_info": {
   "codemirror_mode": {
    "name": "ipython",
    "version": 3
   },
   "file_extension": ".py",
   "mimetype": "text/x-python",
   "name": "python",
   "nbconvert_exporter": "python",
   "pygments_lexer": "ipython3",
   "version": "3.10.6"
  }
 },
 "nbformat": 4,
 "nbformat_minor": 5
}
